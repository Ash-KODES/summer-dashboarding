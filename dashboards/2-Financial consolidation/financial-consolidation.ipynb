{
 "cells": [
  {
   "cell_type": "markdown",
   "id": "0b67be94-62bf-45f1-996a-fb016eaa4fa2",
   "metadata": {},
   "source": [
    "# **Financial Consolidation** "
   ]
  },
  {
   "cell_type": "markdown",
   "id": "9195b352-f4c1-4753-ae61-986d7f3ae633",
   "metadata": {},
   "source": []
  },
  {
   "cell_type": "markdown",
   "id": "33a7bdf9-eea1-4987-9e2f-be5f72516ea6",
   "metadata": {},
   "source": [
    "**Gross profit margin:** is an analytical metric expressed as a company's net sales minus the cost of goods sold (COGS).\n",
    "\n",
    "**Opex  ratio:** a measure of your operation's financial efficiency and shows how much you spend to generate income. (Operating Expense divided by Total Revenue)\n",
    "\n",
    "**Ebit Margin:** financial ratio used to measure a company's operating efficiency. (It is calculated by subtracting the firm's operating expenses (also known as operating costs) from its net earnings, then dividing the result by net earnings.)\n",
    "\n",
    "**Net profit margin:** measures how much net income or profit is generated as a percentage of revenue."
   ]
  },
  {
   "cell_type": "markdown",
   "id": "59e516cf-ce9f-4eac-b177-ebdbf2e90636",
   "metadata": {},
   "source": [
    "## Input"
   ]
  },
  {
   "cell_type": "markdown",
   "id": "b65b0b48-0fc2-4081-9e2e-43a07fab320f",
   "metadata": {},
   "source": [
    "### Install packages"
   ]
  },
  {
   "cell_type": "code",
   "execution_count": null,
   "id": "191de423-16ca-4d04-a377-b3f7d3c9218f",
   "metadata": {
    "execution": {
     "iopub.execute_input": "2022-08-02T15:38:49.806067Z",
     "iopub.status.busy": "2022-08-02T15:38:49.805828Z"
    },
    "tags": []
   },
   "outputs": [
    {
     "name": "stdout",
     "output_type": "stream",
     "text": [
      "Collecting dash\n",
      "  Using cached dash-2.6.0-py3-none-any.whl (9.8 MB)\n",
      "Collecting flask-compress\n",
      "  Using cached Flask_Compress-1.12-py3-none-any.whl (7.9 kB)\n",
      "Requirement already satisfied: dash-html-components==2.0.0 in /home/ftp/.local/lib/python3.9/site-packages (from dash) (2.0.0)\n",
      "Collecting Flask>=1.0.4\n",
      "  Using cached Flask-2.2.0-py3-none-any.whl (101 kB)\n",
      "Requirement already satisfied: dash-table==5.0.0 in /home/ftp/.local/lib/python3.9/site-packages (from dash) (5.0.0)\n",
      "Requirement already satisfied: dash-core-components==2.0.0 in /home/ftp/.local/lib/python3.9/site-packages (from dash) (2.0.0)\n",
      "Collecting plotly>=5.0.0\n",
      "  Using cached plotly-5.9.0-py2.py3-none-any.whl (15.2 MB)\n",
      "Collecting itsdangerous>=2.0\n",
      "  Using cached itsdangerous-2.1.2-py3-none-any.whl (15 kB)\n",
      "Requirement already satisfied: importlib-metadata>=3.6.0 in /opt/conda/lib/python3.9/site-packages (from Flask>=1.0.4->dash) (4.6.3)\n",
      "Requirement already satisfied: click>=8.0 in /opt/conda/lib/python3.9/site-packages (from Flask>=1.0.4->dash) (8.1.3)\n",
      "Collecting Werkzeug>=2.2.0\n",
      "  Using cached Werkzeug-2.2.1-py3-none-any.whl (232 kB)\n",
      "Requirement already satisfied: Jinja2>=3.0 in /opt/conda/lib/python3.9/site-packages (from Flask>=1.0.4->dash) (3.0.3)\n",
      "Requirement already satisfied: tenacity>=6.2.0 in /opt/conda/lib/python3.9/site-packages (from plotly>=5.0.0->dash) (8.0.1)\n",
      "Requirement already satisfied: brotli in /opt/conda/lib/python3.9/site-packages (from flask-compress->dash) (1.0.9)\n",
      "Requirement already satisfied: zipp>=0.5 in /opt/conda/lib/python3.9/site-packages (from importlib-metadata>=3.6.0->Flask>=1.0.4->dash) (3.5.0)\n",
      "Requirement already satisfied: MarkupSafe>=2.0 in /opt/conda/lib/python3.9/site-packages (from Jinja2>=3.0->Flask>=1.0.4->dash) (2.0.1)\n",
      "Collecting MarkupSafe>=2.0\n",
      "  Using cached MarkupSafe-2.1.1-cp39-cp39-manylinux_2_17_x86_64.manylinux2014_x86_64.whl (25 kB)\n",
      "Installing collected packages: plotly, MarkupSafe, itsdangerous, Werkzeug, Flask, flask-compress, dash\n"
     ]
    }
   ],
   "source": [
    "!pip install dash --user"
   ]
  },
  {
   "cell_type": "markdown",
   "id": "383ac6fd-6bf7-42f5-901a-e1086e6720d0",
   "metadata": {},
   "source": [
    "### Import library"
   ]
  },
  {
   "cell_type": "code",
   "execution_count": 7,
   "id": "cd726a60-cf9a-45d4-afeb-9124a7f1cadb",
   "metadata": {
    "execution": {
     "iopub.execute_input": "2022-08-02T15:38:20.072579Z",
     "iopub.status.busy": "2022-08-02T15:38:20.072334Z",
     "iopub.status.idle": "2022-08-02T15:38:20.105733Z",
     "shell.execute_reply": "2022-08-02T15:38:20.104734Z",
     "shell.execute_reply.started": "2022-08-02T15:38:20.072546Z"
    },
    "tags": []
   },
   "outputs": [
    {
     "ename": "ModuleNotFoundError",
     "evalue": "No module named 'dash'",
     "output_type": "error",
     "traceback": [
      "\u001b[0;31m---------------------------------------------------------------------------\u001b[0m",
      "\u001b[0;31mModuleNotFoundError\u001b[0m                       Traceback (most recent call last)",
      "\u001b[0;32m<ipython-input-7-35df27be24bb>\u001b[0m in \u001b[0;36m<module>\u001b[0;34m\u001b[0m\n\u001b[1;32m      1\u001b[0m \u001b[0;32mimport\u001b[0m \u001b[0mnaas\u001b[0m\u001b[0;34m\u001b[0m\u001b[0;34m\u001b[0m\u001b[0m\n\u001b[1;32m      2\u001b[0m \u001b[0;34m\u001b[0m\u001b[0m\n\u001b[0;32m----> 3\u001b[0;31m \u001b[0;32mimport\u001b[0m \u001b[0mdash\u001b[0m\u001b[0;34m\u001b[0m\u001b[0;34m\u001b[0m\u001b[0m\n\u001b[0m\u001b[1;32m      4\u001b[0m \u001b[0;32mfrom\u001b[0m \u001b[0mdash\u001b[0m \u001b[0;32mimport\u001b[0m \u001b[0mhtml\u001b[0m\u001b[0;34m\u001b[0m\u001b[0;34m\u001b[0m\u001b[0m\n\u001b[1;32m      5\u001b[0m \u001b[0;32mfrom\u001b[0m \u001b[0mdash\u001b[0m \u001b[0;32mimport\u001b[0m \u001b[0mdcc\u001b[0m\u001b[0;34m\u001b[0m\u001b[0;34m\u001b[0m\u001b[0m\n",
      "\u001b[0;31mModuleNotFoundError\u001b[0m: No module named 'dash'"
     ]
    }
   ],
   "source": [
    "import naas\n",
    "\n",
    "import dash\n",
    "from dash import html\n",
    "from dash import dcc\n",
    "\n",
    "import plotly.graph_objects as go\n",
    "import plotly.express as px\n",
    "\n",
    "import pandas as pd\n",
    "\n",
    "import os"
   ]
  },
  {
   "cell_type": "markdown",
   "id": "47187f6b-150f-4072-8e59-910734be1d59",
   "metadata": {},
   "source": [
    "### Variables"
   ]
  },
  {
   "cell_type": "code",
   "execution_count": null,
   "id": "9af29914-37af-494f-9b1c-8360886b65e5",
   "metadata": {},
   "outputs": [],
   "source": [
    "DASH_PORT = 8050"
   ]
  },
  {
   "cell_type": "markdown",
   "id": "5e2982c8-d74b-47d6-9d0e-7a3c599ea281",
   "metadata": {},
   "source": [
    "## Model"
   ]
  },
  {
   "cell_type": "markdown",
   "id": "11095603-aa40-400b-b176-34f32ee21d00",
   "metadata": {},
   "source": [
    "### Initialize Dash app"
   ]
  },
  {
   "cell_type": "markdown",
   "id": "59a261f6-3ff1-4643-9db1-0c71af9bec43",
   "metadata": {},
   "source": [
    "### Create app layout"
   ]
  },
  {
   "cell_type": "code",
   "execution_count": null,
   "id": "2df854f5-0934-4d4e-9940-424d1b729e16",
   "metadata": {},
   "outputs": [],
   "source": [
    "\n",
    "app = dash.Dash(requests_pathname_prefix=f'/user/{os.environ.get(\"JUPYTERHUB_USER\")}/proxy/{DASH_PORT}/')   \n",
    "#app = dash.Dash() if you are not in Naas"
   ]
  },
  {
   "cell_type": "code",
   "execution_count": null,
   "id": "a9e82ba3-9e31-4972-a6e8-bd348af33846",
   "metadata": {},
   "outputs": [],
   "source": [
    "#Create the right data with the tools provided ( using a gererated fake data )\n",
    "#df = pd.read_csv(DATA_PATH) "
   ]
  },
  {
   "cell_type": "code",
   "execution_count": null,
   "id": "e5eedd25-1703-472c-85b0-dc89e347ee80",
   "metadata": {},
   "outputs": [],
   "source": [
    "ENTITY_list = [\"groups\"]"
   ]
  },
  {
   "cell_type": "code",
   "execution_count": null,
   "id": "7eb4eb26-6de2-40f0-8b78-4e8cac986b53",
   "metadata": {},
   "outputs": [],
   "source": [
    "layout = html.Div([\n",
    "    #Title of the dashbord on the leaft side\n",
    "    html.H1('Financial Consolidation', style={\"textAlign\": \"left\"}),\n",
    "    #The Dropdowns is about entities and scenarios\n",
    "    html.Div([\n",
    "        html.Div(\n",
    "            html.Pre(children=\"ENTITY\", style={\"fontSize\":\"150%\"}),\n",
    "            dcc.Dropdown(\n",
    "                id='ENTITY_dropdown', value='VALUE1', clearable=False,\n",
    "                persistence=True, persistence_type='session',\n",
    "                options=[{'label': x, 'value': x} for x in ENTITY_list]\n",
    "            ), className='four columns'),\n",
    "    \n",
    "        html.Div(\n",
    "            html.Pre(children=\"SCENARIO\", style={\"fontSize\":\"150%\"}),\n",
    "            dcc.Dropdown(\n",
    "                id='SCENARIO_dropdown', value='VALUE2', clearable=False,\n",
    "                options=[{'label': x, 'value': x} for x in sorted(df[\"PERIOD_TIME\"].unique())]\n",
    "            ), className='four columns'),\n",
    "    ], className='row'),\n",
    "\n",
    "\n",
    "    dcc.Graph(id='bar', figure={}),\n",
    "])"
   ]
  },
  {
   "cell_type": "code",
   "execution_count": null,
   "id": "fd350802-528a-488e-aef8-a458efddaeef",
   "metadata": {},
   "outputs": [],
   "source": [
    "#callback 1 for the title and the dropdowns \n",
    "@app.callback(\n",
    "    Output(component_id='bar', component_property='figure'),\n",
    "    [Input(component_id='ENTITY_dropdown', component_property='value'),\n",
    "     Input(component_id='SCENARIO_dropdown', component_property='value')]\n",
    ")"
   ]
  },
  {
   "cell_type": "code",
   "execution_count": null,
   "id": "3c541ee0-4791-47bf-93ab-b8597a964a0e",
   "metadata": {},
   "outputs": [],
   "source": [
    "#Display value"
   ]
  },
  {
   "cell_type": "markdown",
   "id": "f3e0f900-5b58-4012-8e70-695594dcd372",
   "metadata": {
    "execution": {
     "iopub.execute_input": "2021-07-02T23:32:10.789097Z",
     "iopub.status.busy": "2021-07-02T23:32:10.788829Z",
     "iopub.status.idle": "2021-07-02T23:32:10.796900Z",
     "shell.execute_reply": "2021-07-02T23:32:10.796358Z",
     "shell.execute_reply.started": "2021-07-02T23:32:10.789033Z"
    },
    "papermill": {},
    "tags": []
   },
   "source": [
    "## Output"
   ]
  },
  {
   "cell_type": "markdown",
   "id": "74eb5829-9e0e-4a3c-9ba7-b33efdbf3b83",
   "metadata": {},
   "source": [
    "### Generate URL and show logs"
   ]
  },
  {
   "cell_type": "code",
   "execution_count": null,
   "id": "35e8c988-8d11-477a-8ac5-5095465825f1",
   "metadata": {
    "papermill": {},
    "tags": []
   },
   "outputs": [],
   "source": [
    "if __name__ == '__main__':\n",
    "    app.run_server(proxy=f\"http://127.0.0.1:{DASH_PORT}::https://app.naas.ai\")"
   ]
  },
  {
   "cell_type": "code",
   "execution_count": null,
   "id": "c42e4957-c0f1-4fba-8ec6-87f65c17df97",
   "metadata": {},
   "outputs": [],
   "source": []
  }
 ],
 "metadata": {
  "kernelspec": {
   "display_name": "Python 3",
   "language": "python",
   "name": "python3"
  },
  "language_info": {
   "codemirror_mode": {
    "name": "ipython",
    "version": 3
   },
   "file_extension": ".py",
   "mimetype": "text/x-python",
   "name": "python",
   "nbconvert_exporter": "python",
   "pygments_lexer": "ipython3",
   "version": "3.9.6"
  }
 },
 "nbformat": 4,
 "nbformat_minor": 5
}
